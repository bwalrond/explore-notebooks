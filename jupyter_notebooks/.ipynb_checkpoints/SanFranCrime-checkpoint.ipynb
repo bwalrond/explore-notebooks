{
 "cells": [
  {
   "cell_type": "code",
   "execution_count": 1,
   "metadata": {
    "collapsed": false
   },
   "outputs": [
    {
     "data": {
      "text/plain": [
       "<pyspark.context.SparkContext at 0x107ac9490>"
      ]
     },
     "execution_count": 1,
     "metadata": {},
     "output_type": "execute_result"
    }
   ],
   "source": [
    "sc"
   ]
  },
  {
   "cell_type": "markdown",
   "metadata": {},
   "source": [
    "# Data Ingest\n",
    "\n",
    "Here, the raw train data is read from csv flat file and saved as a more type-friendly parquet file"
   ]
  },
  {
   "cell_type": "code",
   "execution_count": 4,
   "metadata": {
    "collapsed": false
   },
   "outputs": [
    {
     "name": "stdout",
     "output_type": "stream",
     "text": [
      "Line count of train file: 878050\n",
      "Lines in schema file: 9\n",
      "Length of the schemadict: 9\n",
      "Max len: 9\n",
      "Min len: 9\n"
     ]
    },
    {
     "data": {
      "text/plain": [
       "PythonRDD[9] at RDD at PythonRDD.scala:43"
      ]
     },
     "execution_count": 4,
     "metadata": {},
     "output_type": "execute_result"
    }
   ],
   "source": [
    "import csv\n",
    "from dateutil import parser\n",
    "from datetime import datetime\n",
    "from pyspark.sql.types import *\n",
    "\n",
    "sfcrime_raw_data = '/Users/bill.walrond/Documents/dsprj/data/SanFranCrime/train.csv'\n",
    "sfcrime_schema_file = '/Users/bill.walrond/Documents/dsprj/data/SanFranCrime/train_schema.txt'\n",
    "\n",
    "sfc_rdd = sc.textFile(sfcrime_raw_data)\n",
    "    \n",
    "print 'Line count of train file: %d' % sfc_rdd.count()\n",
    "\n",
    "# Read and process the schema file\n",
    "schemadict = {}\n",
    "i = 0\n",
    "schema = sc.textFile(sfcrime_schema_file)\n",
    "line_cnt = schema.count()\n",
    "print 'Lines in schema file: %d' % line_cnt\n",
    "for l in schema.collect():\n",
    "    col = l.split(',')\n",
    "    schemadict.update({i: (col[0],col[1])})\n",
    "    i += 1\n",
    "print 'Length of the schemadict: %d' % len(schemadict.keys())\n",
    "\n",
    "# Establish the Struct for the Schema\n",
    "keys = schemadict.keys()\n",
    "keys.sort()\n",
    "schema = StructType()\n",
    "for k in keys:\n",
    "    if schemadict[k][1] == 'int':\n",
    "        schema.add(StructField(schemadict[k][0], IntegerType(), True))\n",
    "    elif schemadict[k][1] == 'str':\n",
    "        schema.add(StructField(schemadict[k][0], StringType(), True))\n",
    "    elif schemadict[k][1] == 'float':\n",
    "        schema.add(StructField(schemadict[k][0], FloatType(), True))\n",
    "    elif schemadict[k][1] == 'datetime':\n",
    "        schema.add(StructField(schemadict[k][0], TimestampType(), True))\n",
    "    else:\n",
    "        print 'Unsupported or incorrect data type'\n",
    "\n",
    "# Skip the first header line with this trick ...\n",
    "sfc_nh = sfc_rdd.zipWithIndex().filter(lambda tup: tup[1] > 0).map(lambda tup: tup[0])\n",
    "\n",
    "def toRowSep(line):\n",
    "    \"\"\"Parses one row using csv reader\"\"\"\n",
    "    for r in csv.reader([line], delimiter=','):\n",
    "        return r\n",
    "\n",
    "sfc_split = sfc_nh.map(toRowSep)\n",
    "    \n",
    "lens = sfc_split.map(lambda r: len(r))\n",
    "print 'Max len: %d' % lens.max()\n",
    "print 'Min len: %d' % lens.min()\n",
    "sfc_split.cache()"
   ]
  },
  {
   "cell_type": "code",
   "execution_count": 5,
   "metadata": {
    "collapsed": false
   },
   "outputs": [
    {
     "name": "stdout",
     "output_type": "stream",
     "text": [
      "878049\n"
     ]
    }
   ],
   "source": [
    "def convert_types(row,schema):\n",
    "    d = row\n",
    "    for col, data in enumerate(row):\n",
    "        if col <= len(schema.keys()):\n",
    "            typed = schema[col]\n",
    "            if data is None:\n",
    "                d[col] = None\n",
    "            elif typed[1] == 'string':\n",
    "                d[col] = data\n",
    "            elif typed[1] == 'int':\n",
    "                d[col] = int(round(float(data)))\n",
    "            elif typed[1] == 'float':\n",
    "                d[col] = float(data)\n",
    "            elif typed[1] == 'datetime':\n",
    "                # d[col] = data\n",
    "                # d[col] = dateutil.parser.parse(data)\n",
    "                d[col] = datetime.strptime(data,'%Y-%m-%d %H:%M:%S')\n",
    "    return d\n",
    "\n",
    "def toTypedRow(row):\n",
    "    return convert_types(row, schemadict)\n",
    "\n",
    "# Now, convert the types of all the rdd elements\n",
    "sfc_typed = sfc_split.map(toTypedRow)\n",
    "sfc_typed.take(1)\n",
    "sfc_train = sqlContext.createDataFrame(sfc_typed, schema)\n",
    "print sfc_train.count()"
   ]
  },
  {
   "cell_type": "code",
   "execution_count": null,
   "metadata": {
    "collapsed": false
   },
   "outputs": [],
   "source": [
    "sfc_train = sfc_train.cache()\n",
    "sfc_train.printSchema()"
   ]
  },
  {
   "cell_type": "code",
   "execution_count": 8,
   "metadata": {
    "collapsed": false
   },
   "outputs": [
    {
     "name": "stdout",
     "output_type": "stream",
     "text": [
      "+--------------------+--------------+--------------------+---------+----------+--------------+--------------------+-----------+---------+\n",
      "|               Dates|      Category|            Descript|DayOfWeek|PdDistrict|    Resolution|             Address|          X|        Y|\n",
      "+--------------------+--------------+--------------------+---------+----------+--------------+--------------------+-----------+---------+\n",
      "|2015-05-13 23:53:...|      WARRANTS|      WARRANT ARREST|Wednesday|  NORTHERN|ARREST, BOOKED|  OAK ST / LAGUNA ST| -122.42589|37.774597|\n",
      "|2015-05-13 23:53:...|OTHER OFFENSES|TRAFFIC VIOLATION...|Wednesday|  NORTHERN|ARREST, BOOKED|  OAK ST / LAGUNA ST| -122.42589|37.774597|\n",
      "|2015-05-13 23:33:...|OTHER OFFENSES|TRAFFIC VIOLATION...|Wednesday|  NORTHERN|ARREST, BOOKED|VANNESS AV / GREE...| -122.42436|37.800415|\n",
      "|2015-05-13 23:30:...| LARCENY/THEFT|GRAND THEFT FROM ...|Wednesday|  NORTHERN|          NONE|1500 Block of LOM...|-122.426994|37.800873|\n",
      "|2015-05-13 23:30:...| LARCENY/THEFT|GRAND THEFT FROM ...|Wednesday|      PARK|          NONE|100 Block of BROD...|-122.438736| 37.77154|\n",
      "+--------------------+--------------+--------------------+---------+----------+--------------+--------------------+-----------+---------+\n",
      "only showing top 5 rows\n",
      "\n"
     ]
    }
   ],
   "source": [
    "sfc_train.show(5)"
   ]
  },
  {
   "cell_type": "code",
   "execution_count": 19,
   "metadata": {
    "collapsed": false
   },
   "outputs": [],
   "source": [
    "parqFileName = '/Users/bill.walrond/Documents/dsprj/data/SanFranCrime/train.pqt'\n",
    "sfc_train.write.parquet(parqFileName)"
   ]
  },
  {
   "cell_type": "code",
   "execution_count": 2,
   "metadata": {
    "collapsed": false
   },
   "outputs": [
    {
     "data": {
      "text/plain": [
       "<pyspark.context.SparkContext at 0x103555490>"
      ]
     },
     "execution_count": 2,
     "metadata": {},
     "output_type": "execute_result"
    }
   ],
   "source": [
    "sc"
   ]
  },
  {
   "cell_type": "markdown",
   "metadata": {},
   "source": [
    "# Data Profiling and Analysis\n",
    "\n",
    "Next, the train data is injested from the parquet file and data profiling and analysis may begin"
   ]
  },
  {
   "cell_type": "code",
   "execution_count": 184,
   "metadata": {
    "collapsed": false
   },
   "outputs": [
    {
     "name": "stdout",
     "output_type": "stream",
     "text": [
      "878049\n",
      "root\n",
      " |-- Dates: timestamp (nullable = true)\n",
      " |-- Category: string (nullable = true)\n",
      " |-- Descript: string (nullable = true)\n",
      " |-- DayOfWeek: string (nullable = true)\n",
      " |-- PdDistrict: string (nullable = true)\n",
      " |-- Resolution: string (nullable = true)\n",
      " |-- Address: string (nullable = true)\n",
      " |-- X: float (nullable = true)\n",
      " |-- Y: float (nullable = true)\n",
      "\n",
      "None\n"
     ]
    }
   ],
   "source": [
    "parqFileName = '/Users/bill.walrond/Documents/dsprj/data/SanFranCrime/train.pqt'\n",
    "sfc_train = sqlContext.read.parquet(parqFileName)\n",
    "print sfc_train.count()\n",
    "print sfc_train.printSchema()\n",
    "sfc_train = sfc_train.cache()"
   ]
  },
  {
   "cell_type": "code",
   "execution_count": 185,
   "metadata": {
    "collapsed": true
   },
   "outputs": [],
   "source": [
    "%matplotlib inline\n",
    "import numpy as np\n",
    "import pandas as pd\n",
    "import matplotlib as mpl\n",
    "import matplotlib.pyplot as plt\n",
    "import seaborn as sns\n",
    "sns.set(style=\"whitegrid\", color_codes=True)\n"
   ]
  },
  {
   "cell_type": "code",
   "execution_count": 186,
   "metadata": {
    "collapsed": false
   },
   "outputs": [
    {
     "name": "stdout",
     "output_type": "stream",
     "text": [
      "878049\n"
     ]
    }
   ],
   "source": [
    "sfc_train = sfc_train.repartition(8)\n",
    "print sfc_train.count()\n",
    "sfc_train = sfc_train.cache()"
   ]
  },
  {
   "cell_type": "code",
   "execution_count": 187,
   "metadata": {
    "collapsed": false
   },
   "outputs": [
    {
     "name": "stdout",
     "output_type": "stream",
     "text": [
      "+-------+--------------------+------------------+\n",
      "|summary|                   X|                 Y|\n",
      "+-------+--------------------+------------------+\n",
      "|  count|              878049|            878049|\n",
      "|   mean| -122.42261639461971| 37.77102031342325|\n",
      "| stddev|0.030353645185033078|0.4568931059287773|\n",
      "|    min|          -122.51364|          37.70788|\n",
      "|    max|              -120.5|              90.0|\n",
      "+-------+--------------------+------------------+\n",
      "\n"
     ]
    }
   ],
   "source": [
    "sfc_train.describe().show()"
   ]
  },
  {
   "cell_type": "markdown",
   "metadata": {},
   "source": [
    "### Profiling on the date-time column:  What do we want to know about a \"datetime\" column?"
   ]
  },
  {
   "cell_type": "code",
   "execution_count": 188,
   "metadata": {
    "collapsed": false
   },
   "outputs": [
    {
     "name": "stdout",
     "output_type": "stream",
     "text": [
      "389241\n",
      "2003-01-06 00:01:00\n",
      "2015-05-13 23:53:00\n"
     ]
    }
   ],
   "source": [
    "print sfc_train.select(\"Dates\").distinct().count()\n",
    "print sfc_train.agg({\"Dates\": \"min\"}).collect()[0][0]\n",
    "print sfc_train.agg({\"Dates\": \"max\"}).collect()[0][0]"
   ]
  },
  {
   "cell_type": "code",
   "execution_count": 183,
   "metadata": {
    "collapsed": false
   },
   "outputs": [
    {
     "name": "stdout",
     "output_type": "stream",
     "text": [
      "root\n",
      " |-- Dates: timestamp (nullable = true)\n",
      " |-- Category: string (nullable = true)\n",
      " |-- Descript: string (nullable = true)\n",
      " |-- DayOfWeek: string (nullable = true)\n",
      " |-- PdDistrict: string (nullable = true)\n",
      " |-- Resolution: string (nullable = true)\n",
      " |-- Address: string (nullable = true)\n",
      " |-- X: float (nullable = true)\n",
      " |-- Y: float (nullable = true)\n",
      " |-- _year: integer (nullable = true)\n",
      " |-- _month: integer (nullable = true)\n",
      "\n"
     ]
    },
    {
     "data": {
      "text/plain": [
       "DataFrame[Dates: timestamp, Category: string, Descript: string, DayOfWeek: string, PdDistrict: string, Resolution: string, Address: string, X: float, Y: float, _year: int, _month: int]"
      ]
     },
     "execution_count": 183,
     "metadata": {},
     "output_type": "execute_result"
    }
   ],
   "source": [
    "sfc_train = sfc_train.select('*',year(sfc_train.Dates).alias('_year'),month(sfc_train.Dates).alias('_month'))\n",
    "sfc_train.printSchema()\n",
    "sfc_train = sfc_train.cache()\n",
    "# sfc_train.select('_month').map(lambda m: str(m)).take(3)"
   ]
  },
  {
   "cell_type": "markdown",
   "metadata": {},
   "source": [
    "### What do we want to know about a \"str\" column?\n",
    "\n",
    "- number of nulls (% nulls)\n",
    "- number of unique values (categories)\n",
    "- Category count\n",
    "- Simple bar plot of the Top 20 Category Counts\n",
    "- Does it look like free-form text?\n",
    "- Min/max/avg length\n",
    "- Avg word count\n",
    "- Avg word length\n",
    "- language"
   ]
  },
  {
   "cell_type": "code",
   "execution_count": 75,
   "metadata": {
    "collapsed": false
   },
   "outputs": [
    {
     "data": {
      "image/png": "[encoded data removed]",
      "text/plain": [
       "<matplotlib.figure.Figure at 0x10b205410>"
      ]
     },
     "metadata": {},
     "output_type": "display_data"
    }
   ],
   "source": [
    "c = category.head(15)\n",
    "# plt.plot(category['count'], 'ro')\n",
    "# plt.xticks(np.arange(len(category['Category'])), category['Category'])\n",
    "# plt.show()\n",
    "\n",
    "y_pos = np.arange(len(c['Category']))\n",
    "\n",
    "plt.barh(y_pos, c['count'], align='center', alpha=0.7)\n",
    "plt.yticks(y_pos, c['Category'])\n",
    "plt.xlabel('count')\n",
    "plt.title('Top 15 Category Counts')\n",
    "\n",
    "plt.show()"
   ]
  },
  {
   "cell_type": "code",
   "execution_count": 182,
   "metadata": {
    "collapsed": false,
    "scrolled": true
   },
   "outputs": [
    {
     "name": "stdout",
     "output_type": "stream",
     "text": [
      "---- Summary: Category ----\n",
      "---- Summary: Descript ----\n",
      "---- Summary: DayOfWeek ----\n",
      "---- Summary: PdDistrict ----\n",
      "---- Summary: Resolution ----\n",
      "---- Summary: Address ----\n",
      "       Column  Null_cnt  Non-null_cnt  Pct_null  Unique_cnt  Max_len  Min_len  \\\n",
      "0    Category       0.0      878049.0       0.0        39.0     27.0      4.0   \n",
      "1    Descript       0.0      878049.0       0.0       879.0     73.0      4.0   \n",
      "2   DayOfWeek       0.0      878049.0       0.0         7.0      9.0      6.0   \n",
      "3  PdDistrict       0.0      878049.0       0.0        10.0     10.0      4.0   \n",
      "4  Resolution       0.0      878049.0       0.0        17.0     38.0      4.0   \n",
      "5     Address       0.0      878049.0       0.0     23228.0     44.0     11.0   \n",
      "\n",
      "   Max_words  Min_words  \n",
      "0        4.0        1.0  \n",
      "1       11.0        1.0  \n",
      "2        1.0        1.0  \n",
      "3        1.0        1.0  \n",
      "4        5.0        1.0  \n",
      "5       10.0        3.0  \n"
     ]
    }
   ],
   "source": [
    "from pyspark.sql.functions import *\n",
    "import pandas as pd\n",
    "cols = ['Category','Descript','DayOfWeek','PdDistrict','Resolution','Address']\n",
    "summ_cols = ['Column','Null_cnt','Non-null_cnt','Pct_null','Unique_cnt','Max_len','Min_len','Max_words','Min_words']\n",
    "summ_df = pd.DataFrame(columns=summ_cols)\n",
    "total_rows = sfc_train.count()\n",
    "for col in cols:\n",
    "    sum_vals = []\n",
    "    print '---- Summary: {0} ----'.format(col)\n",
    "    words = sfc_train.select(split(col,\" \").alias(\"l\")).map(lambda l: len(l[0]))\n",
    "    words = words.cache()\n",
    "    sum_val = [col,\n",
    "        sfc_train.filter(col+\" is Null\").count(),       # count of nulls\n",
    "        sfc_train.filter(col+\" is not Null\").count(),   # count of non-nulls\n",
    "        nulls/float(total_rows),                        # pct of nulls\n",
    "        sfc_train.select(col).distinct().count(),       # count of unique values\n",
    "        sfc_train.select(max(length(col))).first()[0],  # max length\n",
    "        sfc_train.select(min(length(col))).first()[0],  # min length\n",
    "        words.max(),                                    # max number of words\n",
    "        words.min()]                                    # min number of words\n",
    "    summ_df.loc[len(summ_df)] = sum_val\n",
    "    \n",
    "print summ_df.head(len(summ_df))"
   ]
  },
  {
   "cell_type": "code",
   "execution_count": 45,
   "metadata": {
    "collapsed": false
   },
   "outputs": [
    {
     "data": {
      "text/plain": [
       "<seaborn.axisgrid.FacetGrid at 0x103b020d0>"
      ]
     },
     "execution_count": 45,
     "metadata": {},
     "output_type": "execute_result"
    },
    {
     "data": {
      "image/png": "[encoded data removed]",
      "text/plain": [
       "<matplotlib.figure.Figure at 0x106d4ef50>"
      ]
     },
     "metadata": {},
     "output_type": "display_data"
    }
   ],
   "source": [
    "sns.set(style=\"white\")\n",
    "\n",
    "# Load the example planets dataset\n",
    "planets = sns.load_dataset(\"planets\")\n",
    "\n",
    "# Make a range of years to show categories with no observations\n",
    "years = np.arange(2000, 2015)\n",
    "\n",
    "# Draw a count plot to show the number of planets discovered each year\n",
    "g = sns.factorplot(x=\"year\", data=planets, kind=\"count\",\n",
    "                   palette=\"BuPu\", size=6, aspect=1.5, order=years)\n",
    "g.set_xticklabels(step=2)"
   ]
  },
  {
   "cell_type": "code",
   "execution_count": 49,
   "metadata": {
    "collapsed": false
   },
   "outputs": [
    {
     "data": {
      "text/plain": [
       "Index([u'Category', u'count'], dtype='object')"
      ]
     },
     "execution_count": 49,
     "metadata": {},
     "output_type": "execute_result"
    }
   ],
   "source": [
    "category.columns"
   ]
  },
  {
   "cell_type": "code",
   "execution_count": 51,
   "metadata": {
    "collapsed": false
   },
   "outputs": [
    {
     "name": "stdout",
     "output_type": "stream",
     "text": [
      "1035\n"
     ]
    }
   ],
   "source": [
    "print len(planets)"
   ]
  },
  {
   "cell_type": "code",
   "execution_count": null,
   "metadata": {
    "collapsed": true
   },
   "outputs": [],
   "source": [
    "# example 1\n",
    "g = sns.factorplot(x=\"age\", y=\"embark_town\",\n",
    "                   hue=\"sex\", row=\"class\",\n",
    "                   data=titanic[titanic.embark_town.notnull()],\n",
    "                   orient=\"h\", size=2, aspect=3.5, palette=\"Set3\",\n",
    "                   kind=\"violin\", split=True, cut=0, bw=.2)\n",
    "\n",
    "# example 2\n",
    "g = sns.factorplot(x=\"who\", \n",
    "                   y=\"survived\", col=\"class\",\n",
    "                   data=titanic, saturation=.5,\n",
    "                   kind=\"bar\", ci=None, aspect=.6)\n",
    "\n",
    "(g.set_axis_labels(\"\", \"Survival Rate\")\n",
    " .set_xticklabels([\"Men\", \"Women\", \"Children\"])\n",
    " .set_titles(\"{col_name} {col_var}\")\n",
    " .set(ylim=(0, 1))\n",
    " .despine(left=True))"
   ]
  },
  {
   "cell_type": "code",
   "execution_count": 56,
   "metadata": {
    "collapsed": false
   },
   "outputs": [
    {
     "ename": "ImportError",
     "evalue": "No module named bokeh.charts",
     "output_type": "error",
     "traceback": [
      "\u001b[0;31m---------------------------------------------------------------------------\u001b[0m",
      "\u001b[0;31mImportError\u001b[0m                               Traceback (most recent call last)",
      "\u001b[0;32m<ipython-input-56-7ab2489bf550>\u001b[0m in \u001b[0;36m<module>\u001b[0;34m()\u001b[0m\n\u001b[0;32m----> 1\u001b[0;31m \u001b[0;32mfrom\u001b[0m \u001b[0mbokeh\u001b[0m\u001b[0;34m.\u001b[0m\u001b[0mcharts\u001b[0m \u001b[0;32mimport\u001b[0m \u001b[0mBar\u001b[0m\u001b[0;34m,\u001b[0m \u001b[0moutput_notebook\u001b[0m\u001b[0;34m,\u001b[0m \u001b[0mshow\u001b[0m\u001b[0;34m\u001b[0m\u001b[0m\n\u001b[0m\u001b[1;32m      2\u001b[0m \u001b[0;32mfrom\u001b[0m \u001b[0mbokeh\u001b[0m\u001b[0;34m.\u001b[0m\u001b[0mcharts\u001b[0m\u001b[0;34m.\u001b[0m\u001b[0mattributes\u001b[0m \u001b[0;32mimport\u001b[0m \u001b[0mcat\u001b[0m\u001b[0;34m,\u001b[0m \u001b[0mcolor\u001b[0m\u001b[0;34m\u001b[0m\u001b[0m\n\u001b[1;32m      3\u001b[0m \u001b[0;32mfrom\u001b[0m \u001b[0mbokeh\u001b[0m\u001b[0;34m.\u001b[0m\u001b[0mcharts\u001b[0m\u001b[0;34m.\u001b[0m\u001b[0moperations\u001b[0m \u001b[0;32mimport\u001b[0m \u001b[0mblend\u001b[0m\u001b[0;34m\u001b[0m\u001b[0m\n\u001b[1;32m      4\u001b[0m \u001b[0;32mfrom\u001b[0m \u001b[0mbokeh\u001b[0m\u001b[0;34m.\u001b[0m\u001b[0mcharts\u001b[0m\u001b[0;34m.\u001b[0m\u001b[0mutils\u001b[0m \u001b[0;32mimport\u001b[0m \u001b[0mdf_from_json\u001b[0m\u001b[0;34m\u001b[0m\u001b[0m\n\u001b[1;32m      5\u001b[0m \u001b[0;32mfrom\u001b[0m \u001b[0mbokeh\u001b[0m\u001b[0;34m.\u001b[0m\u001b[0msampledata\u001b[0m\u001b[0;34m.\u001b[0m\u001b[0molympics2014\u001b[0m \u001b[0;32mimport\u001b[0m \u001b[0mdata\u001b[0m\u001b[0;34m\u001b[0m\u001b[0m\n",
      "\u001b[0;31mImportError\u001b[0m: No module named bokeh.charts"
     ]
    }
   ],
   "source": [
    "from bokeh.charts import Bar, output_notebook, show\n",
    "from bokeh.charts.attributes import cat, color\n",
    "from bokeh.charts.operations import blend\n",
    "from bokeh.charts.utils import df_from_json\n",
    "from bokeh.sampledata.olympics2014 import data\n",
    "\n",
    "# utilize utility to make it easy to get json/dict data converted to a dataframe\n",
    "df = df_from_json(data)\n",
    "\n",
    "# filter by countries with at least one medal and sort by total medals\n",
    "df = df[df['total'] > 0]\n",
    "df = df.sort(\"total\", ascending=False)\n",
    "\n",
    "bar = Bar(df,\n",
    "          values=blend('bronze', 'silver', 'gold', name='medals', labels_name='medal'),\n",
    "          label=cat(columns='abbr', sort=False),\n",
    "          stack=cat(columns='medal', sort=False),\n",
    "          color=color(columns='medal', palette=['SaddleBrown', 'Silver', 'Goldenrod'],\n",
    "                      sort=False),\n",
    "          legend='top_right',\n",
    "          title=\"Medals per Country, Sorted by Total Medals\",\n",
    "          tooltips=[('medal', '@medal'), ('country', '@abbr')])\n",
    "\n",
    "\n",
    "# output_file(\"stacked_bar.html\", title=\"stacked_bar.py example\")\n",
    "output_notebook()\n",
    "\n",
    "show(bar)"
   ]
  },
  {
   "cell_type": "code",
   "execution_count": 141,
   "metadata": {
    "collapsed": false
   },
   "outputs": [
    {
     "data": {
      "text/plain": [
       "<seaborn.axisgrid.FacetGrid at 0x10b4e3510>"
      ]
     },
     "execution_count": 141,
     "metadata": {},
     "output_type": "execute_result"
    },
    {
     "data": {
      "image/png": "[encoded data removed]",
      "text/plain": [
       "<matplotlib.figure.Figure at 0x10b036d90>"
      ]
     },
     "metadata": {},
     "output_type": "display_data"
    }
   ],
   "source": [
    "import numpy as np\n",
    "import seaborn as sns\n",
    "import matplotlib.pyplot as plt\n",
    "sns.set(style=\"darkgrid\")\n",
    "\n",
    "tips = sns.load_dataset(\"tips\")\n",
    "g = sns.FacetGrid(tips, row=\"sex\", col=\"time\", margin_titles=True)\n",
    "bins = np.linspace(0, 60, 13)\n",
    "g.map(plt.hist, \"total_bill\", color=\"steelblue\", bins=bins, lw=0)\n"
   ]
  },
  {
   "cell_type": "code",
   "execution_count": null,
   "metadata": {
    "collapsed": true
   },
   "outputs": [],
   "source": []
  }
 ],
 "metadata": {
  "kernelspec": {
   "display_name": "Python 2",
   "language": "python",
   "name": "python2"
  },
  "language_info": {
   "codemirror_mode": {
    "name": "ipython",
    "version": 2
   },
   "file_extension": ".py",
   "mimetype": "text/x-python",
   "name": "python",
   "nbconvert_exporter": "python",
   "pygments_lexer": "ipython2",
   "version": "2.7.10"
  }
 },
 "nbformat": 4,
 "nbformat_minor": 0
}
