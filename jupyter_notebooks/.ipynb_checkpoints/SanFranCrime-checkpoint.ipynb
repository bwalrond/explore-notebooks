{
 "cells": [
  {
   "cell_type": "code",
   "execution_count": 25,
   "metadata": {
    "collapsed": false
   },
   "outputs": [
    {
     "data": {
      "text/plain": [
       "<pyspark.context.SparkContext at 0x11172b450>"
      ]
     },
     "execution_count": 25,
     "metadata": {},
     "output_type": "execute_result"
    }
   ],
   "source": [
    "sc"
   ]
  },
  {
   "cell_type": "markdown",
   "metadata": {},
   "source": [
    "# Data Ingest\n",
    "\n",
    "Here, the raw train data is read from csv flat file and saved as a more type-friendly parquet file"
   ]
  },
  {
   "cell_type": "code",
   "execution_count": 4,
   "metadata": {
    "collapsed": false
   },
   "outputs": [
    {
     "name": "stdout",
     "output_type": "stream",
     "text": [
      "Line count of train file: 878050\n",
      "Lines in schema file: 9\n",
      "Length of the schemadict: 9\n",
      "Max len: 9\n",
      "Min len: 9\n"
     ]
    },
    {
     "data": {
      "text/plain": [
       "PythonRDD[9] at RDD at PythonRDD.scala:43"
      ]
     },
     "execution_count": 4,
     "metadata": {},
     "output_type": "execute_result"
    }
   ],
   "source": [
    "import csv\n",
    "from dateutil import parser\n",
    "from datetime import datetime\n",
    "from pyspark.sql.types import *\n",
    "\n",
    "sfcrime_raw_data = '/Users/bill.walrond/Documents/dsprj/data/SanFranCrime/train.csv'\n",
    "sfcrime_schema_file = '/Users/bill.walrond/Documents/dsprj/data/SanFranCrime/train_schema.txt'\n",
    "\n",
    "sfc_rdd = sc.textFile(sfcrime_raw_data)\n",
    "    \n",
    "print 'Line count of train file: %d' % sfc_rdd.count()\n",
    "\n",
    "# Read and process the schema file\n",
    "schemadict = {}\n",
    "i = 0\n",
    "schema = sc.textFile(sfcrime_schema_file)\n",
    "line_cnt = schema.count()\n",
    "print 'Lines in schema file: %d' % line_cnt\n",
    "for l in schema.collect():\n",
    "    col = l.split(',')\n",
    "    schemadict.update({i: (col[0],col[1])})\n",
    "    i += 1\n",
    "print 'Length of the schemadict: %d' % len(schemadict.keys())\n",
    "\n",
    "# Establish the Struct for the Schema\n",
    "keys = schemadict.keys()\n",
    "keys.sort()\n",
    "schema = StructType()\n",
    "for k in keys:\n",
    "    if schemadict[k][1] == 'int':\n",
    "        schema.add(StructField(schemadict[k][0], IntegerType(), True))\n",
    "    elif schemadict[k][1] == 'str':\n",
    "        schema.add(StructField(schemadict[k][0], StringType(), True))\n",
    "    elif schemadict[k][1] == 'float':\n",
    "        schema.add(StructField(schemadict[k][0], FloatType(), True))\n",
    "    elif schemadict[k][1] == 'datetime':\n",
    "        schema.add(StructField(schemadict[k][0], TimestampType(), True))\n",
    "    else:\n",
    "        print 'Unsupported or incorrect data type'\n",
    "\n",
    "# Skip the first header line with this trick ...\n",
    "sfc_nh = sfc_rdd.zipWithIndex().filter(lambda tup: tup[1] > 0).map(lambda tup: tup[0])\n",
    "\n",
    "def toRowSep(line):\n",
    "    \"\"\"Parses one row using csv reader\"\"\"\n",
    "    for r in csv.reader([line], delimiter=','):\n",
    "        return r\n",
    "\n",
    "sfc_split = sfc_nh.map(toRowSep)\n",
    "    \n",
    "lens = sfc_split.map(lambda r: len(r))\n",
    "print 'Max len: %d' % lens.max()\n",
    "print 'Min len: %d' % lens.min()\n",
    "sfc_split.cache()"
   ]
  },
  {
   "cell_type": "code",
   "execution_count": 5,
   "metadata": {
    "collapsed": false
   },
   "outputs": [
    {
     "name": "stdout",
     "output_type": "stream",
     "text": [
      "878049\n"
     ]
    }
   ],
   "source": [
    "def convert_types(row,schema):\n",
    "    d = row\n",
    "    for col, data in enumerate(row):\n",
    "        if col <= len(schema.keys()):\n",
    "            typed = schema[col]\n",
    "            if data is None:\n",
    "                d[col] = None\n",
    "            elif typed[1] == 'string':\n",
    "                d[col] = data\n",
    "            elif typed[1] == 'int':\n",
    "                d[col] = int(round(float(data)))\n",
    "            elif typed[1] == 'float':\n",
    "                d[col] = float(data)\n",
    "            elif typed[1] == 'datetime':\n",
    "                # d[col] = data\n",
    "                # d[col] = dateutil.parser.parse(data)\n",
    "                d[col] = datetime.strptime(data,'%Y-%m-%d %H:%M:%S')\n",
    "    return d\n",
    "\n",
    "def toTypedRow(row):\n",
    "    return convert_types(row, schemadict)\n",
    "\n",
    "# Now, convert the types of all the rdd elements\n",
    "sfc_typed = sfc_split.map(toTypedRow)\n",
    "sfc_typed.take(1)\n",
    "sfc_train = sqlContext.createDataFrame(sfc_typed, schema)\n",
    "print sfc_train.count()"
   ]
  },
  {
   "cell_type": "code",
   "execution_count": 6,
   "metadata": {
    "collapsed": false
   },
   "outputs": [
    {
     "data": {
      "text/plain": [
       "DataFrame[Dates: timestamp, Category: string, Descript: string, DayOfWeek: string, PdDistrict: string, Resolution: string, Address: string, X: float, Y: float]"
      ]
     },
     "execution_count": 6,
     "metadata": {},
     "output_type": "execute_result"
    }
   ],
   "source": [
    "sfc_train.cache()"
   ]
  },
  {
   "cell_type": "code",
   "execution_count": 7,
   "metadata": {
    "collapsed": false
   },
   "outputs": [
    {
     "name": "stdout",
     "output_type": "stream",
     "text": [
      "root\n",
      " |-- Dates: timestamp (nullable = true)\n",
      " |-- Category: string (nullable = true)\n",
      " |-- Descript: string (nullable = true)\n",
      " |-- DayOfWeek: string (nullable = true)\n",
      " |-- PdDistrict: string (nullable = true)\n",
      " |-- Resolution: string (nullable = true)\n",
      " |-- Address: string (nullable = true)\n",
      " |-- X: float (nullable = true)\n",
      " |-- Y: float (nullable = true)\n",
      "\n"
     ]
    }
   ],
   "source": [
    "sfc_train.printSchema()"
   ]
  },
  {
   "cell_type": "code",
   "execution_count": 8,
   "metadata": {
    "collapsed": false
   },
   "outputs": [
    {
     "name": "stdout",
     "output_type": "stream",
     "text": [
      "+--------------------+--------------+--------------------+---------+----------+--------------+--------------------+-----------+---------+\n",
      "|               Dates|      Category|            Descript|DayOfWeek|PdDistrict|    Resolution|             Address|          X|        Y|\n",
      "+--------------------+--------------+--------------------+---------+----------+--------------+--------------------+-----------+---------+\n",
      "|2015-05-13 23:53:...|      WARRANTS|      WARRANT ARREST|Wednesday|  NORTHERN|ARREST, BOOKED|  OAK ST / LAGUNA ST| -122.42589|37.774597|\n",
      "|2015-05-13 23:53:...|OTHER OFFENSES|TRAFFIC VIOLATION...|Wednesday|  NORTHERN|ARREST, BOOKED|  OAK ST / LAGUNA ST| -122.42589|37.774597|\n",
      "|2015-05-13 23:33:...|OTHER OFFENSES|TRAFFIC VIOLATION...|Wednesday|  NORTHERN|ARREST, BOOKED|VANNESS AV / GREE...| -122.42436|37.800415|\n",
      "|2015-05-13 23:30:...| LARCENY/THEFT|GRAND THEFT FROM ...|Wednesday|  NORTHERN|          NONE|1500 Block of LOM...|-122.426994|37.800873|\n",
      "|2015-05-13 23:30:...| LARCENY/THEFT|GRAND THEFT FROM ...|Wednesday|      PARK|          NONE|100 Block of BROD...|-122.438736| 37.77154|\n",
      "+--------------------+--------------+--------------------+---------+----------+--------------+--------------------+-----------+---------+\n",
      "only showing top 5 rows\n",
      "\n"
     ]
    }
   ],
   "source": [
    "sfc_train.show(5)"
   ]
  },
  {
   "cell_type": "code",
   "execution_count": 19,
   "metadata": {
    "collapsed": false
   },
   "outputs": [],
   "source": [
    "parqFileName = '/Users/bill.walrond/Documents/dsprj/data/SanFranCrime/train.pqt'\n",
    "sfc_train.write.parquet(parqFileName)"
   ]
  },
  {
   "cell_type": "code",
   "execution_count": 2,
   "metadata": {
    "collapsed": false
   },
   "outputs": [
    {
     "data": {
      "text/plain": [
       "<pyspark.context.SparkContext at 0x103555490>"
      ]
     },
     "execution_count": 2,
     "metadata": {},
     "output_type": "execute_result"
    }
   ],
   "source": [
    "sc"
   ]
  },
  {
   "cell_type": "markdown",
   "metadata": {},
   "source": [
    "# Data Profiling and Analysis\n",
    "\n",
    "Next, the train data is injested from the parquet file and data profiling and analysis may begin"
   ]
  },
  {
   "cell_type": "code",
   "execution_count": 38,
   "metadata": {
    "collapsed": true
   },
   "outputs": [],
   "source": [
    "%matplotlib inline\n",
    "import numpy as np\n",
    "import pandas as pd\n",
    "import matplotlib as mpl\n",
    "import matplotlib.pyplot as plt\n",
    "import seaborn as sns\n",
    "sns.set(style=\"whitegrid\", color_codes=True)"
   ]
  },
  {
   "cell_type": "code",
   "execution_count": 20,
   "metadata": {
    "collapsed": false
   },
   "outputs": [
    {
     "data": {
      "text/plain": [
       "[('Dates', 'timestamp'),\n",
       " ('Category', 'string'),\n",
       " ('Descript', 'string'),\n",
       " ('DayOfWeek', 'string'),\n",
       " ('PdDistrict', 'string'),\n",
       " ('Resolution', 'string'),\n",
       " ('Address', 'string'),\n",
       " ('X', 'float'),\n",
       " ('Y', 'float')]"
      ]
     },
     "execution_count": 20,
     "metadata": {},
     "output_type": "execute_result"
    }
   ],
   "source": [
    "df = sqlContext.read.parquet(parqFileName)\n",
    "df.dtypes"
   ]
  },
  {
   "cell_type": "code",
   "execution_count": 10,
   "metadata": {
    "collapsed": false
   },
   "outputs": [
    {
     "data": {
      "text/plain": [
       "DataFrame[summary: string, X: string, Y: string]"
      ]
     },
     "execution_count": 10,
     "metadata": {},
     "output_type": "execute_result"
    }
   ],
   "source": [
    "sfc_train.describe()"
   ]
  },
  {
   "cell_type": "code",
   "execution_count": 21,
   "metadata": {
    "collapsed": false
   },
   "outputs": [],
   "source": [
    "sfc_train = sfc_train.repartition(8)"
   ]
  },
  {
   "cell_type": "code",
   "execution_count": 22,
   "metadata": {
    "collapsed": false
   },
   "outputs": [
    {
     "data": {
      "text/plain": [
       "878049"
      ]
     },
     "execution_count": 22,
     "metadata": {},
     "output_type": "execute_result"
    }
   ],
   "source": [
    "sfc_train.count()"
   ]
  },
  {
   "cell_type": "code",
   "execution_count": 23,
   "metadata": {
    "collapsed": false
   },
   "outputs": [
    {
     "name": "stdout",
     "output_type": "stream",
     "text": [
      "+-------+--------------------+------------------+\n",
      "|summary|                   X|                 Y|\n",
      "+-------+--------------------+------------------+\n",
      "|  count|              878049|            878049|\n",
      "|   mean| -122.42261639461971| 37.77102031342325|\n",
      "| stddev|0.030353645185033078|0.4568931059287773|\n",
      "|    min|          -122.51364|          37.70788|\n",
      "|    max|              -120.5|              90.0|\n",
      "+-------+--------------------+------------------+\n",
      "\n"
     ]
    }
   ],
   "source": [
    "sfc_train.describe().show()"
   ]
  },
  {
   "cell_type": "code",
   "execution_count": 24,
   "metadata": {
    "collapsed": false
   },
   "outputs": [
    {
     "name": "stdout",
     "output_type": "stream",
     "text": [
      "root\n",
      " |-- Dates: timestamp (nullable = true)\n",
      " |-- Category: string (nullable = true)\n",
      " |-- Descript: string (nullable = true)\n",
      " |-- DayOfWeek: string (nullable = true)\n",
      " |-- PdDistrict: string (nullable = true)\n",
      " |-- Resolution: string (nullable = true)\n",
      " |-- Address: string (nullable = true)\n",
      " |-- X: float (nullable = true)\n",
      " |-- Y: float (nullable = true)\n",
      "\n"
     ]
    }
   ],
   "source": [
    "sfc_train.printSchema()"
   ]
  },
  {
   "cell_type": "code",
   "execution_count": 31,
   "metadata": {
    "collapsed": false
   },
   "outputs": [
    {
     "name": "stdout",
     "output_type": "stream",
     "text": [
      "[Row(min(Dates)=datetime.datetime(2003, 1, 6, 0, 1))]\n",
      "[Row(max(Dates)=datetime.datetime(2015, 5, 13, 23, 53))]\n"
     ]
    }
   ],
   "source": [
    "sfc_train.select(\"Dates\").distinct().count()\n",
    "print sfc_train.agg({\"Dates\": \"min\"}).collect()\n",
    "print sfc_train.agg({\"Dates\": \"max\"}).collect()\n",
    "\n",
    "category = sfc_train.groupBy(\"Category\").count().orderBy(\"count\",ascending=False).toPandas()\n",
    "print len(category)\n",
    "print type(category)"
   ]
  },
  {
   "cell_type": "code",
   "execution_count": null,
   "metadata": {
    "collapsed": false
   },
   "outputs": [],
   "source": [
    "category.head"
   ]
  },
  {
   "cell_type": "code",
   "execution_count": 60,
   "metadata": {
    "collapsed": false
   },
   "outputs": [
    {
     "data": {
      "image/png": "[encoded data removed]",
      "text/plain": [
       "<matplotlib.figure.Figure at 0x10753b350>"
      ]
     },
     "metadata": {},
     "output_type": "display_data"
    }
   ],
   "source": [
    "# plt.plot(category['count'], 'ro')\n",
    "# plt.xticks(np.arange(len(category['Category'])), category['Category'])\n",
    "# plt.show()\n",
    "\n",
    "y_pos = np.arange(len(category['Category']))\n",
    "\n",
    "plt.barh(y_pos, category['count'], align='center', alpha=0.4)\n",
    "plt.yticks(y_pos, category['Category'])\n",
    "plt.xlabel('count')\n",
    "plt.title('Category Counts')\n",
    "\n",
    "plt.show()"
   ]
  },
  {
   "cell_type": "code",
   "execution_count": 45,
   "metadata": {
    "collapsed": false
   },
   "outputs": [
    {
     "data": {
      "text/plain": [
       "<seaborn.axisgrid.FacetGrid at 0x103b020d0>"
      ]
     },
     "execution_count": 45,
     "metadata": {},
     "output_type": "execute_result"
    },
    {
     "data": {
      "image/png": "[encoded data removed]",
      "text/plain": [
       "<matplotlib.figure.Figure at 0x106d4ef50>"
      ]
     },
     "metadata": {},
     "output_type": "display_data"
    }
   ],
   "source": [
    "sns.set(style=\"white\")\n",
    "\n",
    "# Load the example planets dataset\n",
    "planets = sns.load_dataset(\"planets\")\n",
    "\n",
    "# Make a range of years to show categories with no observations\n",
    "years = np.arange(2000, 2015)\n",
    "\n",
    "# Draw a count plot to show the number of planets discovered each year\n",
    "g = sns.factorplot(x=\"year\", data=planets, kind=\"count\",\n",
    "                   palette=\"BuPu\", size=6, aspect=1.5, order=years)\n",
    "g.set_xticklabels(step=2)"
   ]
  },
  {
   "cell_type": "code",
   "execution_count": 49,
   "metadata": {
    "collapsed": false
   },
   "outputs": [
    {
     "data": {
      "text/plain": [
       "Index([u'Category', u'count'], dtype='object')"
      ]
     },
     "execution_count": 49,
     "metadata": {},
     "output_type": "execute_result"
    }
   ],
   "source": [
    "category.columns"
   ]
  },
  {
   "cell_type": "code",
   "execution_count": 51,
   "metadata": {
    "collapsed": false
   },
   "outputs": [
    {
     "name": "stdout",
     "output_type": "stream",
     "text": [
      "1035\n"
     ]
    }
   ],
   "source": [
    "print len(planets)"
   ]
  },
  {
   "cell_type": "code",
   "execution_count": null,
   "metadata": {
    "collapsed": true
   },
   "outputs": [],
   "source": []
  }
 ],
 "metadata": {
  "kernelspec": {
   "display_name": "Python 2",
   "language": "python",
   "name": "python2"
  },
  "language_info": {
   "codemirror_mode": {
    "name": "ipython",
    "version": 2
   },
   "file_extension": ".py",
   "mimetype": "text/x-python",
   "name": "python",
   "nbconvert_exporter": "python",
   "pygments_lexer": "ipython2",
   "version": "2.7.10"
  }
 },
 "nbformat": 4,
 "nbformat_minor": 0
}
