{
 "cells": [
  {
   "cell_type": "markdown",
   "metadata": {},
   "source": [
    "## this is my first notebook on this server"
   ]
  },
  {
   "cell_type": "code",
   "execution_count": 1,
   "metadata": {
    "collapsed": false
   },
   "outputs": [
    {
     "name": "stdout",
     "output_type": "stream",
     "text": [
      "The time is: 2016-03-24 00:45:03.714913\n"
     ]
    }
   ],
   "source": [
    "import datetime\n",
    "\n",
    "dt = datetime.datetime.now()\n",
    "\n",
    "print 'The time is: %s' % dt\n"
   ]
  },
  {
   "cell_type": "code",
   "execution_count": 3,
   "metadata": {
    "collapsed": false
   },
   "outputs": [
    {
     "name": "stdout",
     "output_type": "stream",
     "text": [
      "Untitled.ipynb\r\n"
     ]
    }
   ],
   "source": [
    "!ls"
   ]
  },
  {
   "cell_type": "code",
   "execution_count": 4,
   "metadata": {
    "collapsed": false
   },
   "outputs": [
    {
     "name": "stdout",
     "output_type": "stream",
     "text": [
      "total 16\r\n",
      "drwxrwxr-x  3 ec2-user ec2-user 4096 Mar 14 04:24 .\r\n",
      "drwx------ 14 ec2-user ec2-user 4096 Mar 24 00:42 ..\r\n",
      "drwxr-xr-x  2 ec2-user ec2-user 4096 Mar 14 04:23 .ipynb_checkpoints\r\n",
      "-rw-rw-r--  1 ec2-user ec2-user 1111 Mar 14 04:24 Untitled.ipynb\r\n"
     ]
    }
   ],
   "source": [
    "!ls -al"
   ]
  },
  {
   "cell_type": "code",
   "execution_count": 5,
   "metadata": {
    "collapsed": false
   },
   "outputs": [
    {
     "name": "stdout",
     "output_type": "stream",
     "text": [
      " 00:46:02 up 11 days, 23:55,  1 user,  load average: 0.00, 0.01, 0.05\r\n",
      "USER     TTY      FROM              LOGIN@   IDLE   JCPU   PCPU WHAT\r\n",
      "ec2-user pts/0    ip-10-0-0-88.ec2 00:41    1:22   0.00s  0.00s tmux attach-ses\r\n"
     ]
    }
   ],
   "source": [
    "!w"
   ]
  },
  {
   "cell_type": "code",
   "execution_count": null,
   "metadata": {
    "collapsed": true
   },
   "outputs": [],
   "source": []
  }
 ],
 "metadata": {
  "kernelspec": {
   "display_name": "Python 2",
   "language": "python",
   "name": "python2"
  },
  "language_info": {
   "codemirror_mode": {
    "name": "ipython",
    "version": 2
   },
   "file_extension": ".py",
   "mimetype": "text/x-python",
   "name": "python",
   "nbconvert_exporter": "python",
   "pygments_lexer": "ipython2",
   "version": "2.7.10"
  }
 },
 "nbformat": 4,
 "nbformat_minor": 0
}
